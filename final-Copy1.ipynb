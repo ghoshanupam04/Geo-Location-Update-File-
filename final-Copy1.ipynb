{
 "cells": [
  {
   "cell_type": "code",
   "execution_count": 1,
   "id": "df56038a",
   "metadata": {},
   "outputs": [
    {
     "name": "stderr",
     "output_type": "stream",
     "text": [
      "C:\\Users\\ANUBRATA\\AppData\\Local\\Temp\\ipykernel_2436\\4003776896.py:1: DeprecationWarning: \n",
      "Pyarrow will become a required dependency of pandas in the next major release of pandas (pandas 3.0),\n",
      "(to allow more performant data types, such as the Arrow string type, and better interoperability with other libraries)\n",
      "but was not found to be installed on your system.\n",
      "If this would cause problems for you,\n",
      "please provide us feedback at https://github.com/pandas-dev/pandas/issues/54466\n",
      "        \n",
      "  import pandas as pd\n"
     ]
    }
   ],
   "source": [
    "import pandas as pd\n",
    "from geopy.distance import geodesic\n",
    "import matplotlib.pyplot as plt\n",
    "import re\n"
   ]
  },
  {
   "cell_type": "markdown",
   "id": "fddcc5e1-6033-4690-afa4-b0690965823c",
   "metadata": {},
   "source": [
    "!pip install pandas\n",
    "!pip install geopy\n",
    "!pip install matplotlib\n",
    "!pip install re"
   ]
  },
  {
   "cell_type": "markdown",
   "id": "4e31a6cd",
   "metadata": {},
   "source": [
    "## Get CSV files"
   ]
  },
  {
   "cell_type": "code",
   "execution_count": 2,
   "id": "288a5c36",
   "metadata": {},
   "outputs": [],
   "source": [
    "Train = pd.read_csv('./Train Data set.csv')\n",
    "Metro = pd.read_csv('./Metro Data set.csv')\n",
    "Bus = pd.read_csv('./Bus Data set.csv')\n",
    "Auto = pd.read_csv('./Auto Data set.csv')"
   ]
  },
  {
   "cell_type": "markdown",
   "id": "67832ed7",
   "metadata": {},
   "source": [
    "# Checking Sizes of Data"
   ]
  },
  {
   "cell_type": "code",
   "execution_count": 3,
   "id": "a084de69",
   "metadata": {},
   "outputs": [
    {
     "name": "stdout",
     "output_type": "stream",
     "text": [
      "(321, 3) (40, 3) (1660, 3) (1660, 3)\n"
     ]
    }
   ],
   "source": [
    "print(Train.shape , Metro.shape, Bus.shape, Auto.shape)"
   ]
  },
  {
   "cell_type": "markdown",
   "id": "ebbfe8e6",
   "metadata": {},
   "source": [
    "# Helper Functions "
   ]
  },
  {
   "cell_type": "code",
   "execution_count": 4,
   "id": "4e0f105c",
   "metadata": {},
   "outputs": [],
   "source": [
    "def Merge_Nodes(point1 , point2): #are_close_points\n",
    "    if (geodesic(point1, point2).meters <= 100):\n",
    "        return True \n",
    "    else :\n",
    "        return False"
   ]
  },
  {
   "cell_type": "code",
   "execution_count": 5,
   "id": "6ab5a64d",
   "metadata": {},
   "outputs": [],
   "source": [
    "def getNodes(Transport): #compress_coordinate\n",
    "    NodePoints = []\n",
    "    for i in range(Transport.shape[0]) :\n",
    "        NodePoints.append((Transport['lat'][i], Transport['long'][i]))\n",
    "    return NodePoints"
   ]
  },
  {
   "cell_type": "markdown",
   "id": "51cf991d",
   "metadata": {},
   "source": [
    "## Get List of Nodes"
   ]
  },
  {
   "cell_type": "code",
   "execution_count": 6,
   "id": "4bc5a051",
   "metadata": {},
   "outputs": [],
   "source": [
    "TrainNodes = getNodes(Train)"
   ]
  },
  {
   "cell_type": "code",
   "execution_count": 7,
   "id": "ec662da0",
   "metadata": {},
   "outputs": [],
   "source": [
    "MetroNodes = getNodes(Metro)"
   ]
  },
  {
   "cell_type": "code",
   "execution_count": 8,
   "id": "5473a1a4",
   "metadata": {},
   "outputs": [],
   "source": [
    "BusNodes = getNodes(Bus)"
   ]
  },
  {
   "cell_type": "code",
   "execution_count": 9,
   "id": "b8f2d242",
   "metadata": {},
   "outputs": [],
   "source": [
    "AutoNodes = getNodes(Auto)"
   ]
  },
  {
   "cell_type": "markdown",
   "id": "c93b0d9f-80f5-45bc-a38c-93e4d73c1b5b",
   "metadata": {},
   "source": [
    "BusNodes"
   ]
  },
  {
   "cell_type": "markdown",
   "id": "007b6edf",
   "metadata": {},
   "source": [
    "# Combining nodes in range of 100 meters"
   ]
  },
  {
   "cell_type": "code",
   "execution_count": 10,
   "id": "5243d8fd",
   "metadata": {},
   "outputs": [],
   "source": [
    "Nodes = {}"
   ]
  },
  {
   "cell_type": "code",
   "execution_count": 11,
   "id": "376a8bfd",
   "metadata": {},
   "outputs": [],
   "source": [
    "def getCloseNodes(Node_List_1, Node_List_2): # collect_close_vertex\n",
    "    List_1 = []\n",
    "    List_2 = []\n",
    "    for i in range(len(Node_List_1)):\n",
    "        for j in range(len(Node_List_2)):\n",
    "            if Merge_Nodes(Node_List_1[i],Node_List_2[j]):\n",
    "                List_1.append(i)\n",
    "                List_2.append(j)\n",
    "    return [List_1,List_2]"
   ]
  },
  {
   "cell_type": "code",
   "execution_count": 12,
   "id": "45acdbb8",
   "metadata": {},
   "outputs": [],
   "source": [
    "def add_Transport(df): # populate_Nodes_with_Transport\n",
    "    dfNodes = getNodes(df)\n",
    "    globalNodes = []\n",
    "    \n",
    "    for node in Nodes:\n",
    "        globalNodes.append(node)\n",
    "        \n",
    "    b = getCloseNodes(globalNodes, dfNodes)\n",
    "    \n",
    "    for i in range (len (b[0])):\n",
    "        Nodes[ globalNodes[b[0][i]] ].append(df.iloc[:,0][b[1][i]])\n",
    "    \n",
    "    for i in range (len(dfNodes)):\n",
    "        if i in b[1]:\n",
    "            continue\n",
    "        Nodes[dfNodes[i]] = [ df.iloc[:,0][i] ]  "
   ]
  },
  {
   "cell_type": "code",
   "execution_count": 13,
   "id": "f93effa5",
   "metadata": {},
   "outputs": [],
   "source": [
    "a = getCloseNodes(TrainNodes, MetroNodes)\n",
    "\n",
    "for i in range (len (a[0])):\n",
    "    Nodes[ TrainNodes[a[0][i]] ] = [ Metro.iloc[:,0][a[1][i]], Train.iloc[:,0][a[0][i]] ]\n",
    "    \n",
    "for i in range (len(TrainNodes)):\n",
    "    if i in a[0]:\n",
    "        continue\n",
    "    Nodes[TrainNodes[i]] = [ Train.iloc[:,0][i] ]\n",
    "    \n",
    "for i in range (len(MetroNodes)):\n",
    "    if i in a[1]:\n",
    "        continue\n",
    "    Nodes[MetroNodes[i]] = [ Metro.iloc[:,0][i] ]"
   ]
  },
  {
   "cell_type": "code",
   "execution_count": null,
   "id": "9dd48775",
   "metadata": {},
   "outputs": [],
   "source": [
    "#add new transport here 👇👇👇👇👇👇\n",
    "add_Transport(Bus)\n",
    "add_Transport(Auto)"
   ]
  },
  {
   "cell_type": "code",
   "execution_count": null,
   "id": "2d7c6a5c-a46c-410d-98a9-beba5e60b3e3",
   "metadata": {},
   "outputs": [],
   "source": [
    "Nodes"
   ]
  },
  {
   "cell_type": "markdown",
   "id": "e32fba7b",
   "metadata": {},
   "source": [
    "# Visualise In Graph"
   ]
  },
  {
   "cell_type": "code",
   "execution_count": null,
   "id": "a8e95d5b",
   "metadata": {},
   "outputs": [],
   "source": [
    "Nodes_x = []\n",
    "Nodes_y = []\n",
    "\n",
    "for key in Nodes:\n",
    "    Nodes_x.append(key[0])\n",
    "    Nodes_y.append(key[1])"
   ]
  },
  {
   "cell_type": "code",
   "execution_count": null,
   "id": "de11d58a",
   "metadata": {},
   "outputs": [],
   "source": [
    "fig, ax = plt.subplots(figsize=(10, 6))\n",
    "ax.scatter(Nodes_x,Nodes_y, marker='.', color='blue', label='Data Points', s=5, )\n",
    "ax.set_xlabel('Latitude')\n",
    "ax.set_ylabel('Longitude')\n",
    "ax.set_title('Nodes')\n",
    "ax.legend()\n",
    "ax.grid()\n",
    "plt.show()"
   ]
  },
  {
   "cell_type": "code",
   "execution_count": null,
   "id": "d89c9450",
   "metadata": {},
   "outputs": [],
   "source": [
    "for i in range(len(BusNodes)):\n",
    "    if BusNodes[i][0] > 24 :\n",
    "        print(BusNodes[i])"
   ]
  },
  {
   "cell_type": "markdown",
   "id": "a32501bf",
   "metadata": {},
   "source": [
    "# Adjacency Matrix "
   ]
  },
  {
   "cell_type": "code",
   "execution_count": 19,
   "id": "af705702",
   "metadata": {},
   "outputs": [],
   "source": [
    "BusMatrix_df = pd.read_csv('./Bus Matrix.csv')\n",
    "AutoMatrix_df = pd.read_csv('./Auto Matrix.csv')\n",
    "TrainMatrix_df = pd.read_csv('./Train Matrix.csv')\n",
    "MetroMatrix_df = pd.read_csv('./Metro Matrix.csv')"
   ]
  },
  {
   "cell_type": "code",
   "execution_count": 20,
   "id": "9f668a26",
   "metadata": {},
   "outputs": [],
   "source": [
    "def getConnection(Transport):\n",
    "    NodePoints = []\n",
    "    for i in range(Transport.shape[0]) :\n",
    "        NodePoints.append((Transport['source'][i], Transport['dest'][i]))\n",
    "    return NodePoints"
   ]
  },
  {
   "cell_type": "code",
   "execution_count": 21,
   "id": "5ce5644b",
   "metadata": {},
   "outputs": [
    {
     "data": {
      "text/plain": [
       "'\\nAutoMatrix = getConnection(AutoMatrix_df)\\n'"
      ]
     },
     "execution_count": 21,
     "metadata": {},
     "output_type": "execute_result"
    }
   ],
   "source": [
    "BusMatrix = getConnection(BusMatrix_df)\n",
    "MetroMatrix = getConnection(MetroMatrix_df)\n",
    "TrainMatrix = getConnection(TrainMatrix_df)\n",
    "AutoMatrix = getConnection(AutoMatrix_df)"
   ]
  },
  {
   "cell_type": "markdown",
   "id": "31ae2f96-81ce-42c5-aa84-746ab26e0f66",
   "metadata": {},
   "source": [
    "BusMatrix[2]"
   ]
  },
  {
   "cell_type": "code",
   "execution_count": 23,
   "id": "a750c44b",
   "metadata": {},
   "outputs": [],
   "source": [
    "'''\n",
    "check either two point have any one transport among them or not \n",
    "'''\n",
    "def connect(point1, point2): \n",
    "    #check for bus\n",
    "    for pair in BusMatrix:\n",
    "        con1 = (pair[0] in Nodes[point1] or pair[0] in Nodes[point2]) # if 'Bally Hal' is in point 1 or in point 2\n",
    "        con2 = (pair[1] in Nodes[point1] or pair[1] in Nodes[point2]) # if 'Park Circus' is in point 1 or in point 2\n",
    "        if con1 and con2:\n",
    "            return True\n",
    "    \n",
    "#     for pair in BusMatrix:\n",
    "#         con1 = (pair[0] in Nodes[point1] and pair[1] in Nodes[point2]) \n",
    "#         con2 = (pair[1] in Nodes[point1] and pair[0] in Nodes[point2])\n",
    "#         if con1 and con2:\n",
    "#             return True\n",
    "    \n",
    "    #check for Metro\n",
    "    for pair in MetroMatrix:\n",
    "        con1 = (pair[0] in Nodes[point1] or pair[0] in Nodes[point2])\n",
    "        con2 = (pair[1] in Nodes[point1] or pair[1] in Nodes[point2])\n",
    "        if con1 and con2:\n",
    "            return True\n",
    "#     for pair in MetroMatrix:\n",
    "#         con1 = (pair[0] in Nodes[point1] and pair[1] in Nodes[point2])\n",
    "#         con2 = (pair[1] in Nodes[point1] and pair[0] in Nodes[point2])\n",
    "#         if con1 and con2:\n",
    "#             return True\n",
    "      \n",
    "    #check for Train\n",
    "    for pair in TrainMatrix:\n",
    "        con1 = (pair[0] in Nodes[point1] or pair[0] in Nodes[point2])\n",
    "        con2 = (pair[1] in Nodes[point1] or pair[1] in Nodes[point2])\n",
    "        if con1 and con2:\n",
    "            return True\n",
    "#     for pair in TrainMatrix:\n",
    "#         con1 = (pair[0] in Nodes[point1] and pair[1] in Nodes[point2])\n",
    "#         con2 = (pair[1] in Nodes[point1] and pair[0] in Nodes[point2])\n",
    "#         if con1 and con2:\n",
    "#             return True\n",
    "    \n",
    "    #check for Auto\n",
    "    for pair in AutoMatrix:\n",
    "        con1 = (pair[0] in Nodes[point1] or pair[1] in Nodes[point2])\n",
    "        con2 = (pair[1] in Nodes[point1] or pair[0] in Nodes[point2])\n",
    "        if con1 and con2:\n",
    "            return True\n",
    "            \n",
    "    return False"
   ]
  },
  {
   "cell_type": "code",
   "execution_count": 24,
   "id": "6cbd46c2",
   "metadata": {},
   "outputs": [],
   "source": [
    "def getTransportData(point1, point2):\n",
    "    pass"
   ]
  },
  {
   "cell_type": "code",
   "execution_count": 25,
   "id": "832a2dc7",
   "metadata": {},
   "outputs": [],
   "source": [
    "MatrixPoints = []\n",
    "for node in Nodes:\n",
    "    MatrixPoints.append(node)"
   ]
  },
  {
   "cell_type": "code",
   "execution_count": 26,
   "id": "cd92778c",
   "metadata": {},
   "outputs": [],
   "source": [
    "'''\n",
    "Making a (total node)x(total node) size matrix\n",
    "'''\n",
    "Matrix = [[0 for i in range(len(MatrixPoints))]for i in range(len(MatrixPoints))]"
   ]
  },
  {
   "cell_type": "code",
   "execution_count": null,
   "id": "71a87e43-2303-43c3-9846-b1a4a9f6b9b0",
   "metadata": {},
   "outputs": [],
   "source": [
    "count = 0\n",
    "for i in range(len(MatrixPoints)):\n",
    "    for j in range(len(MatrixPoints)):\n",
    "        if(connect(MatrixPoints[i],MatrixPoints[j])): #(1,2) || (2,3)\n",
    "            Matrix[i][j] = 1\n",
    "            count += 1\n",
    "print(count)"
   ]
  },
  {
   "cell_type": "markdown",
   "id": "87ea8e8d",
   "metadata": {},
   "source": [
    "# Visualize edges in graph"
   ]
  },
  {
   "cell_type": "code",
   "execution_count": null,
   "id": "f3febd3a-86f2-4e66-b916-e1e8afa5a2e7",
   "metadata": {},
   "outputs": [],
   "source": [
    "edge_x = []\n",
    "edge_y = []\n",
    "for i in range (len(Matrix)):\n",
    "    for j in range(len(Matrix)):\n",
    "        if Matrix[i][j] == 1: \n",
    "            edge_x.append(MatrixPoints[i][0])\n",
    "            edge_y.append(MatrixPoints[i][1])\n",
    "            edge_x.append(MatrixPoints[j][0])\n",
    "            edge_y.append(MatrixPoints[j][1])\n"
   ]
  },
  {
   "cell_type": "code",
   "execution_count": null,
   "id": "cde7ee49-729b-4b0d-8506-009aa62dd0af",
   "metadata": {},
   "outputs": [],
   "source": [
    "fig, ax = plt.subplots(figsize=(10, 6))\n",
    "ax.scatter(Nodes_x,Nodes_y, marker='.', color='blue', label='Data Points', s=10, )\n",
    "ax.plot(edge_x, edge_y, color='red', linestyle='-', linewidth=0.5, alpha=0.4)\n",
    "ax.set_xlabel('Latitude')\n",
    "ax.set_ylabel('Longitude')\n",
    "ax.set_title('Nodes')\n",
    "ax.legend()\n",
    "\n",
    "plt.show()"
   ]
  },
  {
   "cell_type": "markdown",
   "id": "8544e596",
   "metadata": {},
   "source": [
    "# Find the Path"
   ]
  },
  {
   "cell_type": "code",
   "execution_count": null,
   "id": "06ebb742",
   "metadata": {},
   "outputs": [],
   "source": [
    "import networkx as nx\n",
    "\n",
    "G_Time = nx.DiGraph()\n",
    "G_Cost = nx.DiGraph()\n",
    "G_Safety = nx.DiGraph()\n",
    "\n",
    "# Metro\n",
    "for i in range(MetroMatrix_df.shape[0]):\n",
    "    src = ' '.join(word for word in MetroMatrix_df.iloc[i]['source'].split() if word)\n",
    "    dest = ' '.join(word for word in MetroMatrix_df.iloc[i]['dest'].split() if word)\n",
    "    \n",
    "    # making bidirectonal path from A to B \n",
    "    G_Time.add_edge(src,dest, weight= MetroMatrix_df.iloc[i]['time']) # A -> B\n",
    "    G_Time.add_edge(dest, src, weight= MetroMatrix_df.iloc[i]['time']) # B -> A\n",
    "\n",
    "    G_Cost.add_edge(src,dest, weight= MetroMatrix_df.iloc[i]['cost']) # A -> B\n",
    "    G_Cost.add_edge(dest, src, weight= MetroMatrix_df.iloc[i]['cost']) # B -> A\n",
    "\n",
    "    G_Safety.add_edge(src,dest, weight= MetroMatrix_df.iloc[i]['safety']) # A -> B\n",
    "    G_Safety.add_edge(dest, src, weight= MetroMatrix_df.iloc[i]['safety']) # B -> A\n",
    "\n",
    "# Bus\n",
    "for i in range(BusMatrix_df.shape[0]):\n",
    "    src = ' '.join(word for word in BusMatrix_df.iloc[i]['source'].split() if word)\n",
    "    dest = ' '.join(word for word in BusMatrix_df.iloc[i]['dest'].split() if word)\n",
    "    \n",
    "    G_Time.add_edge(src,dest, weight= BusMatrix_df.iloc[i]['time'])\n",
    "    G_Time.add_edge(dest, src, weight= BusMatrix_df.iloc[i]['time'])\n",
    "\n",
    "    G_Cost.add_edge(src,dest, weight= BusMatrix_df.iloc[i]['cost'])\n",
    "    G_Cost.add_edge(dest, src, weight= BusMatrix_df.iloc[i]['cost'])\n",
    "\n",
    "    G_Safety.add_edge(src,dest, weight= BusMatrix_df.iloc[i]['safety'])\n",
    "    G_Safety.add_edge(dest, src, weight= BusMatrix_df.iloc[i]['safety'])\n",
    "  \n",
    "# Train\n",
    "for i in range(TrainMatrix_df.shape[0]):\n",
    "    src = ' '.join(word for word in TrainMatrix_df.iloc[i]['source'].split() if word)\n",
    "    dest = ' '.join(word for word in TrainMatrix_df.iloc[i]['dest'].split() if word)\n",
    "    \n",
    "    G_Time.add_edge(src,dest, weight= TrainMatrix_df.iloc[i]['time'])\n",
    "    G_Time.add_edge(dest,src, weight= TrainMatrix_df.iloc[i]['time'])\n",
    "\n",
    "    G_Cost.add_edge(src,dest, weight= TrainMatrix_df.iloc[i]['cost'])\n",
    "    G_Cost.add_edge(dest,src, weight= TrainMatrix_df.iloc[i]['cost'])\n",
    "\n",
    "    G_Safety.add_edge(src,dest, weight= TrainMatrix_df.iloc[i]['safety'])\n",
    "    G_Safety.add_edge(dest,src, weight= TrainMatrix_df.iloc[i]['safety'])\n",
    "    \n",
    "# Auto\n",
    "for i in range(AutoMatrix_df.shape[0]):\n",
    "    src = ' '.join(word for word in AutoMatrix_df.iloc[i]['source'].split() if word)\n",
    "    dest = ' '.join(word for word in AutoMatrix_df.iloc[i]['dest'].split() if word)\n",
    "    \n",
    "    G_Time.add_edge(src,dest, weight= AutoMatrix_df.iloc[i]['time'])\n",
    "    G_Time.add_edge(dest,src, weight= AutoMatrix_df.iloc[i]['time'])\n",
    "\n",
    "    G_Cost.add_edge(src,dest, weight= AutoMatrix_df.iloc[i]['cost'])\n",
    "    G_Cost.add_edge(dest,src, weight= AutoMatrix_df.iloc[i]['cost'])\n",
    "\n",
    "    G_Safety.add_edge(src,dest, weight= AutoMatrix_df.iloc[i]['safety'])\n",
    "    G_Safety.add_edge(dest,src, weight= AutoMatrix_df.iloc[i]['safety'])\n",
    "\n",
    "def FindPath_wrt_Cost(s, d):\n",
    "    try:\n",
    "        shortest_path = nx.shortest_path(G_Cost, source= s, target=d, weight=\"weight\")\n",
    "    except:\n",
    "        shortest_path = \"Route is out of Network\"\n",
    "    return shortest_path\n",
    "\n",
    "def Find_path_Time(s, d):\n",
    "    try:\n",
    "        shortest_path = nx.shortest_path(G_Time, source= s, target=d, weight=\"weight\")\n",
    "    except:\n",
    "        shortest_path = \"Route is out of Network\"\n",
    "    return shortest_path\n",
    "\n",
    "def Find_path_Safety(s, d):\n",
    "    try:\n",
    "        shortest_path = nx.shortest_path(G_Safety, source= s, target=d, weight=\"weight\")\n",
    "    except:\n",
    "        shortest_path = \"Route is out of Network\"\n",
    "    return shortest_path"
   ]
  },
  {
   "cell_type": "code",
   "execution_count": null,
   "id": "1496d6c1",
   "metadata": {},
   "outputs": [],
   "source": [
    "path = FindPath_wrt_Time('Bhabani Bhawan', 'Gariahat')\n",
    "\n",
    "print(\"path=>\", path)"
   ]
  },
  {
   "cell_type": "code",
   "execution_count": 41,
   "id": "4b323189-13e6-4bd7-820d-9dc6bdaf7a33",
   "metadata": {},
   "outputs": [],
   "source": [
    "def station_to_point(s):\n",
    "    for key, value in Nodes.items():\n",
    "        for station in value:\n",
    "            escaped_string = re.escape(s)\n",
    "            regex_pattern = f'^{escaped_string}'\n",
    "            pattern = re.compile(regex_pattern, re.MULTILINE)\n",
    "            matches = pattern.findall(station)\n",
    "            if bool(matches):\n",
    "                return key"
   ]
  },
  {
   "cell_type": "code",
   "execution_count": 44,
   "id": "fd6cec97",
   "metadata": {},
   "outputs": [
    {
     "data": {
      "image/png": "[encoded data removed]",
      "text/plain": [
       "<Figure size 1000x600 with 1 Axes>"
      ]
     },
     "metadata": {},
     "output_type": "display_data"
    }
   ],
   "source": [
    "\n",
    "fig, ax = plt.subplots(figsize=(10, 6))\n",
    "p = []\n",
    "for x in path: \n",
    "    p.append(station_to_point(x))\n",
    "    \n",
    "zpoint_x = [x[0] for x in p]\n",
    "zpoint_y = [y[1] for y in p]\n",
    "\n",
    "# ax.scatter(Nodes_x, Nodes_y, label='other nodes', color='lightgray', alpha=0.5)\n",
    "# ax.plot(edge_x, edge_y, color='pink', linestyle='-', linewidth=0.1, alpha=0.4)\n",
    "ax.scatter(zpoint_x, zpoint_y, label='route', color='blue', s=20)\n",
    "ax.plot(zpoint_x, zpoint_y, color='green', linestyle='-', linewidth=0.9)\n",
    "ax.scatter(zpoint_x[0], zpoint_y[0], marker='^', color='red', label='Source', s=100)\n",
    "ax.scatter(zpoint_x[len(zpoint_x)-1], zpoint_y[len(zpoint_y)-1], marker='*', color='black', label='Destination', s=100)\n",
    "\n",
    "xlo = min(zpoint_x) - 0.01\n",
    "xhi = max(zpoint_x) + 0.01\n",
    "ylo = min(zpoint_y) - 0.01\n",
    "yhi = max(zpoint_y) + 0.01\n",
    "\n",
    "plt.xlim(xlo, xhi)\n",
    "plt.ylim(ylo, yhi)\n",
    "\n",
    "plt.title('dedicated path')\n",
    "plt.legend()\n",
    "\n",
    "# Show the plot\n",
    "plt.show()\n"
   ]
  },
  {
   "cell_type": "code",
   "execution_count": null,
   "id": "ddfec9db",
   "metadata": {},
   "outputs": [],
   "source": []
  },
  {
   "cell_type": "code",
   "execution_count": null,
   "id": "49a74d4b-5f43-4842-b9e5-3e9e25443cc0",
   "metadata": {},
   "outputs": [],
   "source": []
  }
 ],
 "metadata": {
  "kernelspec": {
   "display_name": "Python 3 (ipykernel)",
   "language": "python",
   "name": "python3"
  },
  "language_info": {
   "codemirror_mode": {
    "name": "ipython",
    "version": 3
   },
   "file_extension": ".py",
   "mimetype": "text/x-python",
   "name": "python",
   "nbconvert_exporter": "python",
   "pygments_lexer": "ipython3",
   "version": "3.10.9"
  }
 },
 "nbformat": 4,
 "nbformat_minor": 5
}
